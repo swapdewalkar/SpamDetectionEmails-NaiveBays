{
 "cells": [
  {
   "cell_type": "code",
   "execution_count": 10,
   "metadata": {},
   "outputs": [
    {
     "name": "stdout",
     "output_type": "stream",
     "text": [
      "Own Implementation Naive Bayes Statistics\n",
      "Confusion Matrix\n",
      "=================\n",
      "130|0\n",
      "--------\n",
      "4|126\n",
      "=================\n",
      "Accuracy: 0.984615384615\n",
      "Precision: 1.0\n",
      "Recall: 0.970149253731\n",
      "F1 Score: 0.984848484848\n",
      "=================\n"
     ]
    },
    {
     "data": {
      "image/png": "[encoded data removed]",
      "text/plain": [
       "<matplotlib.figure.Figure at 0x7f5bb5957c10>"
      ]
     },
     "metadata": {},
     "output_type": "display_data"
    }
   ],
   "source": [
    "import os\n",
    "import numpy as np\n",
    "from sklearn.feature_selection import chi2, SelectKBest\n",
    "from sklearn.naive_bayes import GaussianNB\n",
    "import numpy\n",
    "from sklearn.feature_extraction.text import TfidfVectorizer\n",
    "import matplotlib.pyplot as plt\n",
    "from sklearn.metrics import roc_curve,auc\n",
    "\n",
    "#\n",
    "# #Common Functions:\n",
    "def get_emails(path):\n",
    "    documents = os.listdir(\"./EmailsData/\"+path)\n",
    "    emails=[]\n",
    "    total=len(documents)\n",
    "    for file in documents:\n",
    "        f = open(\"./EmailsData/\"+path+\"/\" + file)\n",
    "        emails.append(f.read())\n",
    "    return emails\n",
    "\n",
    "#non_spam==0\n",
    "#spam==1\n",
    "train_labels=numpy.append(np.zeros(350),np.ones(350))\n",
    "non_spam=get_emails(\"nonspam-train\")\n",
    "spam=get_emails(\"spam-train\")\n",
    "train=non_spam+spam\n",
    "vectorizer = TfidfVectorizer()\n",
    "v=vectorizer.fit_transform(train)\n",
    "\n",
    "ch2=SelectKBest(chi2,k=50)\n",
    "s=ch2.fit_transform(v,train_labels)\n",
    "model1 = GaussianNB()\n",
    "model1.fit(s.toarray(),train_labels)\n",
    "\n",
    "non_spam_t=get_emails(\"nonspam-test\")\n",
    "spam_t=get_emails(\"spam-test\")\n",
    "test=non_spam_t+spam_t\n",
    "v=vectorizer.transform(test)\n",
    "s=ch2.transform(v)\n",
    "s=s.toarray()\n",
    "\n",
    "TP=TN=FP=FN=0\n",
    "for i in s[:130]:\n",
    "    p=model1.predict([i])\n",
    "    if p[0]==0:\n",
    "        TN=TN+1\n",
    "    else:\n",
    "        FN=FN+1\n",
    "for i in s[130:]:\n",
    "    p=model1.predict([i])\n",
    "    if p[0]==1:\n",
    "        TP=TP+1\n",
    "    else:\n",
    "        FP=FP+1\n",
    "\n",
    "\n",
    "print \"Own Implementation Naive Bayes Statistics\"\n",
    "print \"Confusion Matrix\"\n",
    "print \"=================\"\n",
    "print str(TP)+\"|\"+str(FP)\n",
    "print \"--------\"\n",
    "print str(FN)+\"|\"+str(TN)\n",
    "print \"=================\"\n",
    "Accuracy=((TP+TN)/float(TP+TN+FP+FN))\n",
    "Recall=float(TP)/(TP+FN)\n",
    "Precision=float(TP)/(TP+FP)\n",
    "F1_Score=2*((Precision*Recall)/float(Precision+Recall))\n",
    "print \"Accuracy: \"+str(Accuracy)\n",
    "print \"Precision: \"+str(Precision)\n",
    "print \"Recall: \"+str(Recall)\n",
    "print \"F1 Score: \"+str(F1_Score)\n",
    "print \"=================\"\n",
    "\n",
    "plt.xlabel('False Positive Rate')\n",
    "plt.ylabel('True Positive Rate')\n",
    "plt.title('ROC curve')\n",
    "plt.show()\n"
   ]
  },
  {
   "cell_type": "code",
   "execution_count": 17,
   "metadata": {},
   "outputs": [
    {
     "data": {
      "image/png": "[encoded data removed]",
      "text/plain": [
       "<matplotlib.figure.Figure at 0x7f5b7d29d210>"
      ]
     },
     "metadata": {},
     "output_type": "display_data"
    }
   ],
   "source": [
    "probs = model1.predict_proba(s)\n",
    "p = probs[:,1]\n",
    "y=np.append(np.zeros(130),np.ones(130))\n",
    "f, t, thr = roc_curve(y, p)\n",
    "r_a= auc(f, t)\n",
    "\n",
    "plt.title('R O C Curve')\n",
    "plt.plot(f, t, 'b', label = 'AUC = %0.2f' % r_a)\n",
    "plt.plot([0, 1], [0, 1],'r--')\n",
    "plt.xlim([0, 1])\n",
    "plt.ylim([0, 1])\n",
    "plt.ylabel('True Positive Rate')\n",
    "plt.xlabel('False Positive Rate')\n",
    "plt.show()"
   ]
  },
  {
   "cell_type": "code",
   "execution_count": null,
   "metadata": {
    "collapsed": true
   },
   "outputs": [],
   "source": []
  }
 ],
 "metadata": {
  "kernelspec": {
   "display_name": "Python 2",
   "language": "python",
   "name": "python2"
  },
  "language_info": {
   "codemirror_mode": {
    "name": "ipython",
    "version": 2
   },
   "file_extension": ".py",
   "mimetype": "text/x-python",
   "name": "python",
   "nbconvert_exporter": "python",
   "pygments_lexer": "ipython2",
   "version": "2.7.12"
  }
 },
 "nbformat": 4,
 "nbformat_minor": 2
}
