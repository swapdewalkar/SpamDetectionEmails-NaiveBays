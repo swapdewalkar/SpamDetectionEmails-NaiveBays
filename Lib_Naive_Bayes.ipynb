{
 "cells": [
  {
   "cell_type": "code",
   "execution_count": 12,
   "metadata": {},
   "outputs": [
    {
     "name": "stdout",
     "output_type": "stream",
     "text": [
      "Confusion Matrix\n",
      "=================\n",
      "130|0\n",
      "--------\n",
      "4|126\n",
      "=================\n",
      "Accuracy: 0.984615384615\n",
      "Precision: 1.0\n",
      "Recall: 0.970149253731\n",
      "F1 Score: 0.984848484848\n",
      "=================\n"
     ]
    },
    {
     "ename": "ValueError",
     "evalue": "Data is not binary and pos_label is not specified",
     "output_type": "error",
     "traceback": [
      "\u001b[0;31m---------------------------------------------------------------------------\u001b[0m",
      "\u001b[0;31mValueError\u001b[0m                                Traceback (most recent call last)",
      "\u001b[0;32m<ipython-input-12-9a6a9d88ceee>\u001b[0m in \u001b[0;36m<module>\u001b[0;34m()\u001b[0m\n\u001b[1;32m     70\u001b[0m \u001b[0;32mprint\u001b[0m \u001b[0;34m\"F1 Score: \"\u001b[0m\u001b[0;34m+\u001b[0m\u001b[0mstr\u001b[0m\u001b[0;34m(\u001b[0m\u001b[0mF1_Score\u001b[0m\u001b[0;34m)\u001b[0m\u001b[0;34m\u001b[0m\u001b[0m\n\u001b[1;32m     71\u001b[0m \u001b[0;32mprint\u001b[0m \u001b[0;34m\"=================\"\u001b[0m\u001b[0;34m\u001b[0m\u001b[0m\n\u001b[0;32m---> 72\u001b[0;31m \u001b[0mplt\u001b[0m\u001b[0;34m.\u001b[0m\u001b[0mplot\u001b[0m\u001b[0;34m(\u001b[0m\u001b[0mroc_curve\u001b[0m\u001b[0;34m(\u001b[0m\u001b[0ma\u001b[0m\u001b[0;34m[\u001b[0m\u001b[0;34m:\u001b[0m\u001b[0;34m,\u001b[0m\u001b[0;36m0\u001b[0m\u001b[0;34m]\u001b[0m\u001b[0;34m,\u001b[0m\u001b[0ma\u001b[0m\u001b[0;34m[\u001b[0m\u001b[0;34m:\u001b[0m\u001b[0;34m,\u001b[0m\u001b[0;36m1\u001b[0m\u001b[0;34m]\u001b[0m\u001b[0;34m)\u001b[0m\u001b[0;34m)\u001b[0m\u001b[0;34m\u001b[0m\u001b[0m\n\u001b[0m\u001b[1;32m     73\u001b[0m \u001b[0mplt\u001b[0m\u001b[0;34m.\u001b[0m\u001b[0mxlabel\u001b[0m\u001b[0;34m(\u001b[0m\u001b[0;34m'False Positive Rate'\u001b[0m\u001b[0;34m)\u001b[0m\u001b[0;34m\u001b[0m\u001b[0m\n\u001b[1;32m     74\u001b[0m \u001b[0mplt\u001b[0m\u001b[0;34m.\u001b[0m\u001b[0mylabel\u001b[0m\u001b[0;34m(\u001b[0m\u001b[0;34m'True Positive Rate'\u001b[0m\u001b[0;34m)\u001b[0m\u001b[0;34m\u001b[0m\u001b[0m\n",
      "\u001b[0;32m/usr/local/lib/python2.7/dist-packages/sklearn/metrics/ranking.pyc\u001b[0m in \u001b[0;36mroc_curve\u001b[0;34m(y_true, y_score, pos_label, sample_weight, drop_intermediate)\u001b[0m\n\u001b[1;32m    508\u001b[0m     \"\"\"\n\u001b[1;32m    509\u001b[0m     fps, tps, thresholds = _binary_clf_curve(\n\u001b[0;32m--> 510\u001b[0;31m         y_true, y_score, pos_label=pos_label, sample_weight=sample_weight)\n\u001b[0m\u001b[1;32m    511\u001b[0m \u001b[0;34m\u001b[0m\u001b[0m\n\u001b[1;32m    512\u001b[0m     \u001b[0;31m# Attempt to drop thresholds corresponding to points in between and\u001b[0m\u001b[0;34m\u001b[0m\u001b[0;34m\u001b[0m\u001b[0m\n",
      "\u001b[0;32m/usr/local/lib/python2.7/dist-packages/sklearn/metrics/ranking.pyc\u001b[0m in \u001b[0;36m_binary_clf_curve\u001b[0;34m(y_true, y_score, pos_label, sample_weight)\u001b[0m\n\u001b[1;32m    317\u001b[0m              \u001b[0mnp\u001b[0m\u001b[0;34m.\u001b[0m\u001b[0marray_equal\u001b[0m\u001b[0;34m(\u001b[0m\u001b[0mclasses\u001b[0m\u001b[0;34m,\u001b[0m \u001b[0;34m[\u001b[0m\u001b[0;34m-\u001b[0m\u001b[0;36m1\u001b[0m\u001b[0;34m]\u001b[0m\u001b[0;34m)\u001b[0m \u001b[0;32mor\u001b[0m\u001b[0;34m\u001b[0m\u001b[0m\n\u001b[1;32m    318\u001b[0m              np.array_equal(classes, [1]))):\n\u001b[0;32m--> 319\u001b[0;31m         \u001b[0;32mraise\u001b[0m \u001b[0mValueError\u001b[0m\u001b[0;34m(\u001b[0m\u001b[0;34m\"Data is not binary and pos_label is not specified\"\u001b[0m\u001b[0;34m)\u001b[0m\u001b[0;34m\u001b[0m\u001b[0m\n\u001b[0m\u001b[1;32m    320\u001b[0m     \u001b[0;32melif\u001b[0m \u001b[0mpos_label\u001b[0m \u001b[0;32mis\u001b[0m \u001b[0mNone\u001b[0m\u001b[0;34m:\u001b[0m\u001b[0;34m\u001b[0m\u001b[0m\n\u001b[1;32m    321\u001b[0m         \u001b[0mpos_label\u001b[0m \u001b[0;34m=\u001b[0m \u001b[0;36m1.\u001b[0m\u001b[0;34m\u001b[0m\u001b[0m\n",
      "\u001b[0;31mValueError\u001b[0m: Data is not binary and pos_label is not specified"
     ]
    }
   ],
   "source": [
    "import os\n",
    "import numpy as np\n",
    "from sklearn.feature_selection import chi2, SelectKBest\n",
    "from sklearn.naive_bayes import GaussianNB\n",
    "import numpy\n",
    "from sklearn.feature_extraction.text import TfidfVectorizer\n",
    "import matplotlib.pyplot as plt\n",
    "from sklearn.metrics import roc_curve\n",
    "\n",
    "#\n",
    "# #Common Functions:\n",
    "def get_emails(path):\n",
    "    documents = os.listdir(\"./EmailsData/\"+path)\n",
    "    emails=[]\n",
    "    total=len(documents)\n",
    "    for file in documents:\n",
    "        f = open(\"./EmailsData/\"+path+\"/\" + file)\n",
    "        emails.append(f.read())\n",
    "    return emails\n",
    "\n",
    "#non_spam==0\n",
    "#spam==1\n",
    "train_labels=numpy.append(np.zeros(350),np.ones(350))\n",
    "non_spam=get_emails(\"nonspam-train\")\n",
    "spam=get_emails(\"spam-train\")\n",
    "train=non_spam+spam\n",
    "vectorizer = TfidfVectorizer()\n",
    "v=vectorizer.fit_transform(train)\n",
    "\n",
    "ch2=SelectKBest(chi2,k=50)\n",
    "s=ch2.fit_transform(v,train_labels)\n",
    "model1 = GaussianNB()\n",
    "model1.fit(s.toarray(),train_labels)\n",
    "\n",
    "non_spam_t=get_emails(\"nonspam-test\")\n",
    "spam_t=get_emails(\"spam-test\")\n",
    "test=non_spam_t+spam_t\n",
    "v=vectorizer.transform(test)\n",
    "s=ch2.transform(v)\n",
    "s=s.toarray()\n",
    "\n",
    "TP=TN=FP=FN=0\n",
    "for i in s[:130]:\n",
    "    p=model1.predict([i])\n",
    "    if p[0]==0:\n",
    "        TN=TN+1\n",
    "    else:\n",
    "        FN=FN+1\n",
    "for i in s[130:]:\n",
    "    p=model1.predict([i])\n",
    "    if p[0]==1:\n",
    "        TP=TP+1\n",
    "    else:\n",
    "        FP=FP+1\n",
    "\n",
    "a=model1.predict_proba(s)        \n",
    "print \"Confusion Matrix\"\n",
    "print \"=================\"\n",
    "print str(TP)+\"|\"+str(FP)\n",
    "print \"--------\"\n",
    "print str(FN)+\"|\"+str(TN)\n",
    "print \"=================\"\n",
    "Accuracy=((TP+TN)/float(TP+TN+FP+FN))\n",
    "Recall=float(TP)/(TP+FN)\n",
    "Precision=float(TP)/(TP+FP)\n",
    "F1_Score=2*((Precision*Recall)/float(Precision+Recall))\n",
    "print \"Accuracy: \"+str(Accuracy)\n",
    "print \"Precision: \"+str(Precision)\n",
    "print \"Recall: \"+str(Recall)\n",
    "print \"F1 Score: \"+str(F1_Score)\n",
    "print \"=================\"\n",
    "plt.plot(roc_curve(a[:,0],a[:,1]))\n",
    "plt.xlabel('False Positive Rate')\n",
    "plt.ylabel('True Positive Rate')\n",
    "plt.title('ROC curve')\n",
    "plt.show()\n"
   ]
  },
  {
   "cell_type": "code",
   "execution_count": null,
   "metadata": {
    "collapsed": true
   },
   "outputs": [],
   "source": []
  }
 ],
 "metadata": {
  "kernelspec": {
   "display_name": "Python 2",
   "language": "python",
   "name": "python2"
  },
  "language_info": {
   "codemirror_mode": {
    "name": "ipython",
    "version": 2
   },
   "file_extension": ".py",
   "mimetype": "text/x-python",
   "name": "python",
   "nbconvert_exporter": "python",
   "pygments_lexer": "ipython2",
   "version": "2.7.12"
  }
 },
 "nbformat": 4,
 "nbformat_minor": 2
}
